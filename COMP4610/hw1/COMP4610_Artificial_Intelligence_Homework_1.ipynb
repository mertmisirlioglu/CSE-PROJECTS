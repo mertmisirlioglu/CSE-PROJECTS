{
 "cells": [
  {
   "cell_type": "markdown",
   "metadata": {
    "id": "5KTFrTAsKea4"
   },
   "source": [
    "# COMP4610.1 Artificial Intelligence : Homework 1\n",
    "\n",
    "217SE2314 - Mert Mısırlıoğlu\n",
    "\n",
    "\n",
    "\n",
    "\n",
    "@gizemgümüscekicci :+1: thanks for graph data. \n"
   ]
  },
  {
   "cell_type": "code",
   "execution_count": 1,
   "metadata": {
    "cellView": "both",
    "colab": {
     "base_uri": "https://localhost:8080/",
     "height": 35
    },
    "id": "F6M7xLLZLbD0",
    "outputId": "5c67afd6-d0b4-4c2d-cb6b-75588ccb171a"
   },
   "outputs": [],
   "source": [
    "from graphTraversal import bfs,dfs\n",
    "from astar import astar_search\n",
    "from utils import find_total_distance_for_path,select_two_random_city\n",
    "\n",
    "from data import get_graph,get_distances"
   ]
  },
  {
   "cell_type": "markdown",
   "metadata": {
    "id": "BDafpr9ALd0c"
   },
   "source": [
    "## Map of Turkey\n",
    "\n",
    " <img src='map.png'>\n",
    " "
   ]
  },
  {
   "cell_type": "code",
   "execution_count": 12,
   "metadata": {
    "cellView": "both",
    "id": "Ko3P6SXH0X8o"
   },
   "outputs": [],
   "source": [
    "graph = get_graph()\n",
    "distances = get_distances()"
   ]
  },
  {
   "cell_type": "markdown",
   "metadata": {},
   "source": [
    "## PART 1 MANUAL SEARCH\n",
    "\n",
    "* #### One selector for the different algorithms. DFS/BFS/A* \n",
    "* #### One selector for two cities.\n",
    "* #### The algorithm runs, prints the visited nodes, and solution path.\n"
   ]
  },
  {
   "cell_type": "code",
   "execution_count": 16,
   "metadata": {
    "cellView": "both",
    "id": "N3LW_FZ8a-hr"
   },
   "outputs": [],
   "source": [
    "#@title You can choose the parameter values!\n",
    "\n",
    "algorithm = \"astar\"  #@param ['bfs', 'dfs', 'astar']\n",
    "start_city = 'İSTANBUL' #@param ['ADANA','ADIYAMAN','AFYONKARAHİSAR','AĞRI','AMASYA','ANKARA','ANTALYA','ARTVİN','AYDIN','BALIKESİR','BİLECİK','BİNGÖL','BİTLİS','BOLU','BURDUR','BURSA','ÇANAKKALE','ÇANKIRI','ÇORUM','DENİZLİ','DİYARBAKIR','EDİRNE','ELAZIĞ','ERZİNCAN','ERZURUM','ESKİŞEHİR','GAZİANTEP','GİRESUN','GÜMÜŞHANE','HAKKARİ','HATAY','ISPARTA','MERSİN','İSTANBUL','İZMİR','KARS','KASTAMONU','KAYSERİ','KIRKLARELİ','KIRŞEHİR','KOCAELİ(İZMİT)','KONYA','KÜTAHYA','MALATYA','MANİSA','KAHRAMANMARAŞ','MARDİN','MUĞLA','MUŞ','NEVŞEHİR','NİĞDE','ORDU','RİZE','SAKARYA(ADAPAZARI)','SAMSUN','SİİRT','SİNOP','SİVAS','TEKİRDAĞ','TOKAT','TRABZON','TUNCELİ','ŞANLIURFA','UŞAK','VAN','YOZGAT','ZONGULDAK','AKSARAY','BAYBURT','KARAMAN','KIRIKKALE','BATMAN','ŞIRNAK','BARTIN','ARDAHAN','IĞDIR','YALOVA','KARABÜK','KİLİS','OSMANİYE','DÜZCE']\n",
    "end_city = 'ADANA' #@param ['ADANA','ADIYAMAN','AFYONKARAHİSAR','AĞRI','AMASYA','ANKARA','ANTALYA','ARTVİN','AYDIN','BALIKESİR','BİLECİK','BİNGÖL','BİTLİS','BOLU','BURDUR','BURSA','ÇANAKKALE','ÇANKIRI','ÇORUM','DENİZLİ','DİYARBAKIR','EDİRNE','ELAZIĞ','ERZİNCAN','ERZURUM','ESKİŞEHİR','GAZİANTEP','GİRESUN','GÜMÜŞHANE','HAKKARİ','HATAY','ISPARTA','MERSİN','İSTANBUL','İZMİR','KARS','KASTAMONU','KAYSERİ','KIRKLARELİ','KIRŞEHİR','KOCAELİ(İZMİT)','KONYA','KÜTAHYA','MALATYA','MANİSA','KAHRAMANMARAŞ','MARDİN','MUĞLA','MUŞ','NEVŞEHİR','NİĞDE','ORDU','RİZE','SAKARYA(ADAPAZARI)','SAMSUN','SİİRT','SİNOP','SİVAS','TEKİRDAĞ','TOKAT','TRABZON','TUNCELİ','ŞANLIURFA','UŞAK','VAN','YOZGAT','ZONGULDAK','AKSARAY','BAYBURT','KARAMAN','KIRIKKALE','BATMAN','ŞIRNAK','BARTIN','ARDAHAN','IĞDIR','YALOVA','KARABÜK','KİLİS','OSMANİYE','DÜZCE']\n",
    "\n"
   ]
  },
  {
   "cell_type": "code",
   "execution_count": 17,
   "metadata": {
    "cellView": "both",
    "colab": {
     "base_uri": "https://localhost:8080/",
     "height": 35
    },
    "id": "-jw3NmrebzBY",
    "outputId": "b5188bcb-2731-499c-a224-95fea5983d3f"
   },
   "outputs": [],
   "source": [
    "def run(graph, distances, algorithm, start, end,is_print):\n",
    "    if algorithm == 'bfs':\n",
    "        path, nodes_visited = bfs(graph, start, end, is_print)\n",
    "    elif algorithm == 'dfs':\n",
    "        path, nodes_visited = dfs(graph, start, end, is_print)\n",
    "    else:\n",
    "        path, nodes_visited = astar_search(graph, distances, start, end, is_print)\n",
    "\n",
    "    print(\"Count nodes visited : \" + str(nodes_visited))\n",
    "    print(\"Final path : \" + str(path))"
   ]
  },
  {
   "cell_type": "code",
   "execution_count": 18,
   "metadata": {
    "cellView": "both",
    "colab": {
     "base_uri": "https://localhost:8080/",
     "height": 35
    },
    "id": "KXzky-Sxb0by",
    "outputId": "438ec1cf-04bc-4c73-f030-27fc235e1325"
   },
   "outputs": [
    {
     "name": "stdout",
     "output_type": "stream",
     "text": [
      "İSTANBUL\n",
      "KOCAELİ(İZMİT)\n",
      "SAKARYA(ADAPAZARI)\n",
      "DÜZCE\n",
      "BOLU\n",
      "ANKARA\n",
      "AKSARAY\n",
      "KIRIKKALE\n",
      "NİĞDE\n",
      "MERSİN\n",
      "ESKİŞEHİR\n",
      "KIRŞEHİR\n",
      "BİLECİK\n",
      "NEVŞEHİR\n",
      "KONYA\n",
      "AFYONKARAHİSAR\n",
      "KÜTAHYA\n",
      "ÇANKIRI\n",
      "YALOVA\n",
      "BURSA\n",
      "ZONGULDAK\n",
      "KAYSERİ\n",
      "KARABÜK\n",
      "YOZGAT\n",
      "UŞAK\n",
      "KASTAMONU\n",
      "ÇORUM\n",
      "BARTIN\n",
      "TEKİRDAĞ\n",
      "BALIKESİR\n",
      "KIRKLARELİ\n",
      "ADANA\n",
      "Count nodes visited : 32\n",
      "Final path : ['İSTANBUL', 'KOCAELİ(İZMİT)', 'SAKARYA(ADAPAZARI)', 'BOLU', 'ANKARA', 'AKSARAY', 'NİĞDE', 'ADANA']\n"
     ]
    }
   ],
   "source": [
    "run(graph,distances,algorithm,start_city,end_city,is_print=True)"
   ]
  },
  {
   "cell_type": "markdown",
   "metadata": {
    "cellView": "both",
    "id": "nkFiBg_pb2YC"
   },
   "source": [
    "## PART 2 Comparison \n",
    "\n",
    "* #### One selector for number of tries.\n",
    "* #### For each try, the code chooses two random cities on the map \n",
    "    * #### Runs all three algorithms, record number of visited nodes and solution length-distance\n",
    "* #### Prints the comparison as a table."
   ]
  },
  {
   "cell_type": "code",
   "execution_count": 9,
   "metadata": {
    "cellView": "both",
    "colab": {
     "base_uri": "https://localhost:8080/",
     "height": 17
    },
    "id": "PyHko0nMcgV6",
    "outputId": "ed2bec05-48de-4c75-a327-7427dc31f478"
   },
   "outputs": [],
   "source": [
    "number_of_tries = 10  #@param {type: \"number\"}"
   ]
  },
  {
   "cell_type": "code",
   "execution_count": 10,
   "metadata": {},
   "outputs": [],
   "source": [
    "def multiple_run(distances,number_of_tries,is_print):\n",
    "    total_node_visited = [0,0,0]\n",
    "    total_path_cost = [0,0,0]\n",
    "    total_path_length = [0,0,0]\n",
    "    for i in range(number_of_tries):\n",
    "        start_city,end_city = select_two_random_city(distances)\n",
    "        print(start_city,end_city)\n",
    "        path, nodes_visited = bfs(graph, start_city, end_city, is_print)\n",
    "        total_node_visited[0] += nodes_visited\n",
    "        total_path_length[0] += len(path)\n",
    "        total_path_cost[0] += find_total_distance_for_path(distances,path)\n",
    "                \n",
    "        path, nodes_visited = dfs(graph, start_city, end_city, is_print)\n",
    "        total_node_visited[1] += nodes_visited\n",
    "        total_path_length[1] += len(path)\n",
    "        total_path_cost[1] += find_total_distance_for_path(distances,path)\n",
    "                \n",
    "        path, nodes_visited = astar_search(graph, distances, start_city, end_city, is_print)\n",
    "        total_node_visited[2] += nodes_visited\n",
    "        total_path_length[2] += len(path)\n",
    "        total_path_cost[2] += find_total_distance_for_path(distances,path)\n",
    "        \n",
    "        print(str(i+1)+\". run completed.\")\n",
    "        print(\"--------\")\n",
    "                \n",
    "    avg_node_count = [total_node / number_of_tries for total_node in total_node_visited]\n",
    "    avg_path_length = [total_length / number_of_tries for total_length in total_path_length]\n",
    "    avg_path_cost = [total_cost / number_of_tries for total_cost in total_path_cost]\n",
    "    \n",
    "    return avg_node_count,avg_path_length,avg_path_cost"
   ]
  },
  {
   "cell_type": "code",
   "execution_count": 11,
   "metadata": {},
   "outputs": [
    {
     "name": "stdout",
     "output_type": "stream",
     "text": [
      "AKSARAY KIRIKKALE\n",
      "1. run completed.\n",
      "--------\n",
      "KARABÜK YOZGAT\n",
      "2. run completed.\n",
      "--------\n",
      "ŞANLIURFA ZONGULDAK\n",
      "3. run completed.\n",
      "--------\n",
      "BOLU TRABZON\n",
      "4. run completed.\n",
      "--------\n",
      "ZONGULDAK GAZİANTEP\n",
      "5. run completed.\n",
      "--------\n",
      "BARTIN BAYBURT\n",
      "6. run completed.\n",
      "--------\n",
      "ERZURUM SİİRT\n",
      "7. run completed.\n",
      "--------\n",
      "MERSİN BOLU\n",
      "8. run completed.\n",
      "--------\n",
      "ORDU HAKKARİ\n",
      "9. run completed.\n",
      "--------\n",
      "GİRESUN AFYONKARAHİSAR\n",
      "10. run completed.\n",
      "--------\n",
      "                                BFS     DFS     A*\n",
      "----------------------------  -----  ------  -----\n",
      "Average Nodes visited         173.4   111.6   21.6\n",
      "Average Solution Path Length    5.7    35.9    6.4\n",
      "Average Solution Cost in km   903.7  5922.6  808.4\n"
     ]
    }
   ],
   "source": [
    "from tabulate import tabulate\n",
    "avg_node_count,avg_path_length,avg_path_cost = multiple_run(distances,number_of_tries,is_print=False)\n",
    "\n",
    "\n",
    "table = [[\"Average Nodes visited\",avg_node_count[0],avg_node_count[1],avg_node_count[2]],\n",
    "         [\"Average Solution Path Length\",avg_path_length[0],avg_path_length[1],avg_path_length[2]],\n",
    "         [\"Average Solution Cost in km\",avg_path_cost[0],avg_path_cost[1],avg_path_cost[2]]]\n",
    "\n",
    "print(tabulate(table, headers=[\"\",\"BFS\", \"DFS\",\"A*\"]))"
   ]
  },
  {
   "cell_type": "code",
   "execution_count": null,
   "metadata": {},
   "outputs": [],
   "source": []
  },
  {
   "cell_type": "code",
   "execution_count": null,
   "metadata": {},
   "outputs": [],
   "source": []
  }
 ],
 "metadata": {
  "colab": {
   "collapsed_sections": [],
   "name": "Colab tutorial for AI course",
   "provenance": []
  },
  "kernelspec": {
   "display_name": "Python 3",
   "language": "python",
   "name": "python3"
  },
  "language_info": {
   "codemirror_mode": {
    "name": "ipython",
    "version": 3
   },
   "file_extension": ".py",
   "mimetype": "text/x-python",
   "name": "python",
   "nbconvert_exporter": "python",
   "pygments_lexer": "ipython3",
   "version": "3.6.8"
  }
 },
 "nbformat": 4,
 "nbformat_minor": 1
}
